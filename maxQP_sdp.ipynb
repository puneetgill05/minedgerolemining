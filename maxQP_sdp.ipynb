{
 "cells": [
  {
   "cell_type": "code",
   "execution_count": 74,
   "id": "b1d1b033-67f6-46a1-9111-161740d3a366",
   "metadata": {},
   "outputs": [],
   "source": [
    "import cvxpy as cp\n",
    "import numpy as np\n",
    "\n",
    "from readup import readup\n"
   ]
  },
  {
   "cell_type": "code",
   "execution_count": 61,
   "id": "f1991588-3ec0-4220-b9cf-57b7085f398a",
   "metadata": {},
   "outputs": [
    {
     "data": {
      "text/plain": [
       "array([[ 0.16003707,  0.87616892,  0.31563495, -2.02220122, -0.30620401,\n",
       "         0.82797464,  0.23009474,  0.76201118],\n",
       "       [-0.22232814, -0.20075807,  0.18656139,  0.41005165,  0.19829972,\n",
       "         0.11900865, -0.67066229,  0.37756379],\n",
       "       [ 0.12182127,  1.12948391,  1.19891788,  0.18515642, -0.37528495,\n",
       "        -0.63873041,  0.42349435,  0.07734007],\n",
       "       [-0.34385368,  0.04359686, -0.62000084,  0.69803203, -0.44712856,\n",
       "         1.2245077 ,  0.40349164,  0.59357852]])"
      ]
     },
     "execution_count": 61,
     "metadata": {},
     "output_type": "execute_result"
    }
   ],
   "source": [
    "np.random.randn(m, n)"
   ]
  },
  {
   "cell_type": "code",
   "execution_count": 78,
   "id": "a63194f2-151b-4584-bbb9-cd0545ebf02d",
   "metadata": {},
   "outputs": [
    {
     "name": "stdout",
     "output_type": "stream",
     "text": [
      "UP map written to /home/puneet/Projects/minedgerolemining/irreducible.txt-upmap.txt\n",
      "Total # users: 5\n",
      "Total # perms: 5\n",
      "Total # edges: 15\n"
     ]
    }
   ],
   "source": [
    "up = readup('/home/puneet/Projects/minedgerolemining/irreducible.txt')\n",
    "\n",
    "nedges = 0\n",
    "users = set()\n",
    "perms = set()\n",
    "for u in up:\n",
    "    users.add(u)\n",
    "    perms = perms.union(up[u])\n",
    "    nedges += len(up[u])\n",
    "\n",
    "print('Total # users:', len(users))\n",
    "print('Total # perms:', len(perms))\n",
    "print('Total # edges:', nedges)\n",
    "sys.stdout.flush()"
   ]
  },
  {
   "cell_type": "code",
   "execution_count": 84,
   "id": "cfb20893-9780-412b-bb36-37a1741cc58e",
   "metadata": {},
   "outputs": [
    {
     "data": {
      "text/plain": [
       "Variable((5, 5), var536)"
      ]
     },
     "execution_count": 84,
     "metadata": {},
     "output_type": "execute_result"
    }
   ],
   "source": [
    "x = cp.Variable((5,5), symmetric=False)\n",
    "x"
   ]
  },
  {
   "cell_type": "code",
   "execution_count": 73,
   "id": "af1604f6-8fea-4962-859a-431d8e821c51",
   "metadata": {},
   "outputs": [
    {
     "name": "stdout",
     "output_type": "stream",
     "text": [
      "[ 2.16823026  0.9474987   0.29115668 -0.94898404]\n"
     ]
    }
   ],
   "source": [
    "m = 4\n",
    "n = 8\n",
    "p = 5\n",
    "\n",
    "np.random.seed(1)\n",
    "\n",
    "P = np.random.randn(n, n)\n",
    "P = np.array([])\n",
    "\n",
    "C = set()\n",
    "D = set()\n",
    "for r in range(nedges):\n",
    "    for u in up:\n",
    "        C_ur = cp.Variable(n)\n",
    "        C.add(C_ur)\n",
    "        \n",
    "    for p in perms:\n",
    "        D_rp = cp.Variable(n)\n",
    "        D.add(D_rp)\n",
    "\n",
    "for u in up:\n",
    "    \n",
    "\n",
    "P = P.T @ P\n",
    "\n",
    "q = np.random.randn(n)\n",
    "# q = np.array([1,2,3,4,5,6,7,8])\n",
    "G = np.random.randn(m, n)\n",
    "h = G @ np.random.randn(n)\n",
    "print(h)\n",
    "A = np.random.randn(p, n)\n",
    "b = np.random.randn(p)"
   ]
  },
  {
   "cell_type": "code",
   "execution_count": 72,
   "id": "814d10e2-6bad-49f6-bca3-175d33f807b6",
   "metadata": {},
   "outputs": [
    {
     "data": {
      "text/plain": [
       "Variable((8,), var530)"
      ]
     },
     "execution_count": 72,
     "metadata": {},
     "output_type": "execute_result"
    }
   ],
   "source": [
    "X = cp.Variable(n)\n",
    "X"
   ]
  },
  {
   "cell_type": "code",
   "execution_count": 67,
   "id": "a54a6cbf-af98-4c0f-a379-578b7c1b536a",
   "metadata": {},
   "outputs": [
    {
     "name": "stdout",
     "output_type": "stream",
     "text": [
      "\n",
      "The optimal value is 8.906871865383419\n",
      "A solution x is\n",
      "[ 0.19603243 -0.77805752 -0.49748141  0.72721921 -2.8414542  -1.77549613\n",
      " -1.33050117 -0.37612288]\n",
      "A dual solution corresponding to the inequality constraints is\n",
      "[0.         0.         3.73635273 2.91208846]\n"
     ]
    }
   ],
   "source": [
    "# Print result.\n",
    "print(\"\\nThe optimal value is\", prob.value)\n",
    "print(\"A solution x is\")\n",
    "print(x.value)\n",
    "print(\"A dual solution corresponding to the inequality constraints is\")\n",
    "print(prob.constraints[0].dual_value)"
   ]
  },
  {
   "cell_type": "code",
   "execution_count": null,
   "id": "67cdf105-d22d-4e5f-bc00-16932507c593",
   "metadata": {},
   "outputs": [],
   "source": []
  },
  {
   "cell_type": "code",
   "execution_count": null,
   "id": "d3d9adc7-7dbd-4b7c-b191-4571bef7d221",
   "metadata": {},
   "outputs": [],
   "source": []
  }
 ],
 "metadata": {
  "kernelspec": {
   "display_name": "SageMath 9.5",
   "language": "sage",
   "name": "sagemath"
  },
  "language_info": {
   "codemirror_mode": {
    "name": "ipython",
    "version": 3
   },
   "file_extension": ".py",
   "mimetype": "text/x-python",
   "name": "python",
   "nbconvert_exporter": "python",
   "pygments_lexer": "ipython3",
   "version": "3.10.12"
  }
 },
 "nbformat": 4,
 "nbformat_minor": 5
}
